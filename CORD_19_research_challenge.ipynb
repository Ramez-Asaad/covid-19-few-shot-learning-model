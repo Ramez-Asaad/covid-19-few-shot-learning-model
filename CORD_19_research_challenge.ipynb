{
  "cells": [
    {
      "cell_type": "code",
      "execution_count": null,
      "metadata": {
        "id": "zys8EDH7UVST"
      },
      "outputs": [],
      "source": [
        "\n",
        "import kagglehub\n",
        "organizations_allen_institute_for_ai_cord_19_research_challenge_path = kagglehub.dataset_download('organizations/allen-institute-for-ai/CORD-19-research-challenge')\n",
        "\n",
        "print('Data source import complete.')\n"
      ]
    },
    {
      "cell_type": "code",
      "execution_count": null,
      "metadata": {
        "execution": {
          "iopub.execute_input": "2025-04-20T15:55:04.324989Z",
          "iopub.status.busy": "2025-04-20T15:55:04.324682Z",
          "iopub.status.idle": "2025-04-20T15:55:04.708992Z",
          "shell.execute_reply": "2025-04-20T15:55:04.70799Z",
          "shell.execute_reply.started": "2025-04-20T15:55:04.324962Z"
        },
        "id": "3tKGRExgUVSV",
        "trusted": true
      },
      "outputs": [],
      "source": [
        "# Basic setup and dataset check\n",
        "import numpy as np\n",
        "import pandas as pd\n",
        "import os\n",
        "\n"
      ]
    },
    {
      "cell_type": "code",
      "execution_count": null,
      "metadata": {
        "execution": {
          "iopub.execute_input": "2025-04-20T15:55:04.711824Z",
          "iopub.status.busy": "2025-04-20T15:55:04.710858Z",
          "iopub.status.idle": "2025-04-20T15:55:04.763343Z",
          "shell.execute_reply": "2025-04-20T15:55:04.762047Z",
          "shell.execute_reply.started": "2025-04-20T15:55:04.711775Z"
        },
        "id": "97tdNaX3UVSW",
        "trusted": true
      },
      "outputs": [],
      "source": [
        "# Load the first 500 rows from metadata.csv\n",
        "df = pd.read_csv('/kaggle/input/CORD-19-research-challenge/metadata.csv', nrows=500)\n",
        "df.head()"
      ]
    },
    {
      "cell_type": "code",
      "execution_count": null,
      "metadata": {
        "execution": {
          "iopub.execute_input": "2025-04-20T15:55:04.764459Z",
          "iopub.status.busy": "2025-04-20T15:55:04.764131Z",
          "iopub.status.idle": "2025-04-20T15:55:04.789898Z",
          "shell.execute_reply": "2025-04-20T15:55:04.788695Z",
          "shell.execute_reply.started": "2025-04-20T15:55:04.764427Z"
        },
        "id": "7Mq93GWDUVSW",
        "trusted": true
      },
      "outputs": [],
      "source": [
        "# Filter for abstracts that mention the word \"vaccine\"\n",
        "vaccine_papers = df[df['abstract'].str.contains(\"vaccine\", case=False, na=False)]\n",
        "\n",
        "# Show how many were found\n",
        "print(f\"Found {len(vaccine_papers)} papers mentioning 'vaccine'.\")\n",
        "\n",
        "# Preview 5 of them\n",
        "vaccine_papers[['title', 'abstract', 'publish_time']].head()\n"
      ]
    },
    {
      "cell_type": "code",
      "execution_count": null,
      "metadata": {
        "execution": {
          "iopub.execute_input": "2025-04-20T15:55:04.791635Z",
          "iopub.status.busy": "2025-04-20T15:55:04.791001Z",
          "iopub.status.idle": "2025-04-20T15:55:06.250603Z",
          "shell.execute_reply": "2025-04-20T15:55:06.249584Z",
          "shell.execute_reply.started": "2025-04-20T15:55:04.7916Z"
        },
        "id": "vEtEVGg6UVSX",
        "trusted": true
      },
      "outputs": [],
      "source": [
        "from wordcloud import WordCloud\n",
        "import matplotlib.pyplot as plt\n",
        "\n",
        "# Ensure inline plots (sometimes needed in fresh notebooks)\n",
        "%matplotlib inline\n",
        "\n",
        "# Combine abstracts (limit text to avoid long processing time)\n",
        "text = \" \".join(vaccine_papers['abstract'].dropna())[:50000]\n",
        "\n",
        "# Generate Word Cloud\n",
        "wordcloud = WordCloud(width=1200, height=600, background_color='white', max_words=100).generate(text)\n",
        "\n",
        "# Display it\n",
        "plt.figure(figsize=(15, 7))\n",
        "plt.imshow(wordcloud, interpolation='bilinear')\n",
        "plt.axis('off')\n",
        "plt.title(\"Top Terms in Vaccine-Related COVID-19 Research\", fontsize=18)\n",
        "plt.show()\n"
      ]
    },
    {
      "cell_type": "markdown",
      "metadata": {
        "id": "ey6FoSgFUVSX"
      },
      "source": [
        "### Insights: Vaccine Research Trends in COVID-19 Literature\n",
        "\n",
        "We extracted and visualized the top 100 terms appearing in the abstracts of scholarly papers that mention **\"vaccine\"** in the [CORD-19 dataset](https://www.kaggle.com/datasets/allen-institute-for-ai/CORD-19-research-challenge). This initial exploration reveals key research themes:\n",
        "\n",
        "- **Commonly recurring terms** include: `immune`, `efficacy`, `response`, `antibody`, `SARS-CoV-2`, and `clinical trials`.\n",
        "- The prevalence of words like **\"mRNA\"**, **\"adjuvant\"**, and **\"neutralizing\"** reflects the scientific focus on developing next-generation vaccine platforms.\n",
        "- Frequent mentions of **\"patients\"**, **\"safety\"**, and **\"results\"** point to real-world testing and outcomes.\n",
        "\n",
        "This simple word cloud gives us a quick lens into what the global research community was prioritizing in early COVID-19 vaccine studies.\n"
      ]
    },
    {
      "cell_type": "code",
      "execution_count": null,
      "metadata": {
        "execution": {
          "iopub.execute_input": "2025-04-20T15:55:06.254149Z",
          "iopub.status.busy": "2025-04-20T15:55:06.253658Z",
          "iopub.status.idle": "2025-04-20T15:55:06.281415Z",
          "shell.execute_reply": "2025-04-20T15:55:06.280571Z",
          "shell.execute_reply.started": "2025-04-20T15:55:06.254096Z"
        },
        "id": "rs8OpFVCUVSY",
        "trusted": true
      },
      "outputs": [],
      "source": [
        "# Filter abstracts that mention \"treatment\"\n",
        "treatment_papers = df[df['abstract'].str.contains(\"treatment\", case=False, na=False)]\n",
        "\n",
        "# How many were found?\n",
        "print(f\"Found {len(treatment_papers)} papers mentioning 'treatment'.\")\n",
        "\n",
        "# Preview 5 of them\n",
        "treatment_papers[['title', 'abstract', 'publish_time']].head()\n"
      ]
    },
    {
      "cell_type": "code",
      "execution_count": null,
      "metadata": {
        "execution": {
          "iopub.execute_input": "2025-04-20T15:55:06.28252Z",
          "iopub.status.busy": "2025-04-20T15:55:06.282293Z",
          "iopub.status.idle": "2025-04-20T15:55:07.493376Z",
          "shell.execute_reply": "2025-04-20T15:55:07.492426Z",
          "shell.execute_reply.started": "2025-04-20T15:55:06.282493Z"
        },
        "id": "PIfo2zKQUVSZ",
        "trusted": true
      },
      "outputs": [],
      "source": [
        "from wordcloud import WordCloud\n",
        "import matplotlib.pyplot as plt\n",
        "\n",
        "# Combine abstracts (again, keep it lightweight)\n",
        "text_treatment = \" \".join(treatment_papers['abstract'].dropna())[:50000]\n",
        "\n",
        "# Generate word cloud\n",
        "wordcloud_treatment = WordCloud(width=1200, height=600, background_color='white', max_words=100).generate(text_treatment)\n",
        "\n",
        "# Display it\n",
        "plt.figure(figsize=(15, 7))\n",
        "plt.imshow(wordcloud_treatment, interpolation='bilinear')\n",
        "plt.axis('off')\n",
        "plt.title(\"Top Terms in Treatment-Related COVID-19 Research\", fontsize=18)\n",
        "plt.show()\n"
      ]
    },
    {
      "cell_type": "markdown",
      "metadata": {
        "id": "0zPipLW5UVSa"
      },
      "source": [
        "## Treatment-Focused Research Insights\n",
        "\n",
        "This word cloud summarizes the **most frequent terms** found in 64 abstracts related to \"treatment\" in the CORD-19 dataset. Several key insights emerge:\n",
        "\n",
        "- **\"Patient\"**, **\"infection\"**, and **\"disease\"** are dominant terms, indicating a strong clinical and public health focus.\n",
        "- Words like **\"mortality\"**, **\"hospital\"**, **\"method\"**, and **\"diagnosis\"** suggest studies on patient outcomes, hospital care strategies, and therapeutic protocols.\n",
        "- Biological terms such as **\"cell\"**, **\"immune\"**, and **\"viral\"** reflect research on how treatments interact with the virus at a cellular level.\n",
        "- The prominence of **\"influenza\"** and **\"pandemic\"** shows the overlap in infectious disease treatment research, extending beyond COVID-19.\n",
        "- Notably, **\"public health\"** and **\"preparedness\"** appear, emphasizing system-wide responses alongside clinical interventions.\n",
        "\n",
        "This visualization gives us a high-level overview of treatment discussions and sets the stage for more targeted analyses — like what therapies are most frequently evaluated or how treatment strategies have evolved over time.\n"
      ]
    },
    {
      "cell_type": "code",
      "execution_count": null,
      "metadata": {
        "execution": {
          "iopub.execute_input": "2025-04-20T15:55:07.494651Z",
          "iopub.status.busy": "2025-04-20T15:55:07.494365Z",
          "iopub.status.idle": "2025-04-20T15:55:07.683339Z",
          "shell.execute_reply": "2025-04-20T15:55:07.682409Z",
          "shell.execute_reply.started": "2025-04-20T15:55:07.494626Z"
        },
        "id": "ApGtYilOUVSa",
        "trusted": true
      },
      "outputs": [],
      "source": [
        "#  Import libraries\n",
        "import pandas as pd\n",
        "import os\n",
        "\n",
        "#  Load metadata CSV with limited rows to keep it light\n",
        "df = pd.read_csv('/kaggle/input/CORD-19-research-challenge/metadata.csv', nrows=1000)\n",
        "\n",
        "#  Define treatment-related keywords\n",
        "keywords = ['treatment', 'drug', 'antiviral', 'remdesivir', 'hydroxychloroquine', 'dexamethasone', 'efficacy']\n",
        "\n",
        "#  Filter abstracts that mention any of the keywords\n",
        "treatment_papers = df[df['abstract'].fillna('').str.contains('|'.join(keywords), case=False)]\n",
        "\n",
        "#  Display how many relevant papers were found\n",
        "print(f\"Found {len(treatment_papers)} papers mentioning treatment-related terms.\")\n",
        "\n",
        "#  Show a preview of the papers\n",
        "treatment_papers[['title', 'abstract', 'publish_time']].head()\n"
      ]
    },
    {
      "cell_type": "code",
      "execution_count": null,
      "metadata": {
        "execution": {
          "iopub.execute_input": "2025-04-20T15:55:07.684473Z",
          "iopub.status.busy": "2025-04-20T15:55:07.684182Z",
          "iopub.status.idle": "2025-04-20T15:55:08.100402Z",
          "shell.execute_reply": "2025-04-20T15:55:08.099413Z",
          "shell.execute_reply.started": "2025-04-20T15:55:07.68445Z"
        },
        "id": "DMVglLfWUVSb",
        "trusted": true
      },
      "outputs": [],
      "source": [
        "import pandas as pd\n",
        "import matplotlib.pyplot as plt\n",
        "\n",
        "# Load the first 1000 rows\n",
        "df = pd.read_csv('/kaggle/input/CORD-19-research-challenge/metadata.csv', nrows=1000)\n",
        "\n",
        "# Define treatment-related keywords\n",
        "keywords = ['treatment', 'drug', 'antiviral', 'remdesivir', 'hydroxychloroquine', 'dexamethasone', 'efficacy']\n",
        "\n",
        "# Filter papers mentioning these keywords\n",
        "treatment_papers = df[df['abstract'].fillna('').str.contains('|'.join(keywords), case=False)]\n",
        "\n",
        "# Count how many abstracts mention each keyword\n",
        "keyword_counts = {k: treatment_papers['abstract'].str.contains(k, case=False).sum() for k in keywords}\n",
        "\n",
        "# Plot bar chart\n",
        "plt.figure(figsize=(10, 6))\n",
        "plt.bar(keyword_counts.keys(), keyword_counts.values())\n",
        "plt.title(\"Mentions of Treatment-Related Terms in Abstracts\")\n",
        "plt.ylabel(\"Number of Papers\")\n",
        "plt.xlabel(\"Keyword\")\n",
        "plt.xticks(rotation=45)\n",
        "plt.tight_layout()\n",
        "plt.show()\n"
      ]
    },
    {
      "cell_type": "markdown",
      "metadata": {
        "id": "_6Klw8NMUVSb"
      },
      "source": [
        "### Treatment-Related Keywords in COVID-19 Research\n",
        "\n",
        "To begin answering Scientific Question #4 from the CORD-19 challenge — *\"What is known about the effectiveness of drugs and other therapies?\"* — I explored mentions of key treatment-related terms in the abstracts of the dataset.\n",
        "\n",
        "Out of a 1,000-paper sample:\n",
        "\n",
        "- **\"Treatment\"** was the most frequently used keyword, appearing in over 130 papers.\n",
        "- Terms like **\"drug\"**, **\"antiviral\"**, and **\"efficacy\"** also appeared with moderate frequency.\n",
        "- Mentions of specific treatments like **remdesivir**, **hydroxychloroquine**, and **dexamethasone** were extremely rare, suggesting that such drugs may either be underrepresented in this slice of the dataset or were not widely discussed in early abstracts.\n",
        "\n",
        "This preliminary scan helps us identify which therapies are receiving attention in the literature. Future steps might include:\n",
        "- Analyzing full-text documents for detailed treatment discussions.\n",
        "- Mapping mentions over time to track drug popularity or emergence.\n",
        "- Extracting named entities to isolate clinical trial references.\n",
        "\n",
        "This forms an early but helpful lens into how treatments were discussed in the academic community during the pandemic.\n"
      ]
    },
    {
      "cell_type": "code",
      "execution_count": null,
      "metadata": {
        "execution": {
          "iopub.execute_input": "2025-04-20T15:55:08.101758Z",
          "iopub.status.busy": "2025-04-20T15:55:08.101447Z",
          "iopub.status.idle": "2025-04-20T15:55:08.133766Z",
          "shell.execute_reply": "2025-04-20T15:55:08.132595Z",
          "shell.execute_reply.started": "2025-04-20T15:55:08.101736Z"
        },
        "id": "km_xfh2mUVSc",
        "trusted": true
      },
      "outputs": [],
      "source": [
        "import pandas as pd\n",
        "\n",
        "# Load a small sample from the metadata file\n",
        "df = pd.read_csv('/kaggle/input/CORD-19-research-challenge/metadata.csv', nrows=500)\n",
        "\n",
        "# Preview to ensure it's loaded\n",
        "df[['title', 'abstract']].head()\n"
      ]
    },
    {
      "cell_type": "code",
      "execution_count": null,
      "metadata": {
        "execution": {
          "iopub.execute_input": "2025-04-20T15:55:08.135054Z",
          "iopub.status.busy": "2025-04-20T15:55:08.134809Z",
          "iopub.status.idle": "2025-04-20T15:55:08.230811Z",
          "shell.execute_reply": "2025-04-20T15:55:08.229843Z",
          "shell.execute_reply.started": "2025-04-20T15:55:08.135034Z"
        },
        "id": "u6Aa0QX_UVSc",
        "trusted": true
      },
      "outputs": [],
      "source": [
        "treatment_keywords = [\n",
        "    \"remdesivir\", \"paxlovid\", \"molnupiravir\", \"monoclonal antibodies\",\n",
        "    \"hydroxychloroquine\", \"ivermectin\", \"dexamethasone\", \"convalescent plasma\"\n",
        "]\n",
        "\n",
        "# Count mentions\n",
        "keyword_counts = {term: df['abstract'].str.contains(term, case=False, na=False).sum()\n",
        "                  for term in treatment_keywords}\n",
        "\n",
        "# To DataFrame\n",
        "keyword_df = pd.DataFrame(list(keyword_counts.items()), columns=[\"Treatment\", \"Mentions\"])\n",
        "keyword_df.sort_values(by=\"Mentions\", ascending=False, inplace=True)\n",
        "keyword_df\n"
      ]
    },
    {
      "cell_type": "code",
      "execution_count": null,
      "metadata": {
        "execution": {
          "iopub.execute_input": "2025-04-20T15:55:08.232582Z",
          "iopub.status.busy": "2025-04-20T15:55:08.231794Z",
          "iopub.status.idle": "2025-04-20T15:55:08.442655Z",
          "shell.execute_reply": "2025-04-20T15:55:08.441658Z",
          "shell.execute_reply.started": "2025-04-20T15:55:08.23255Z"
        },
        "id": "XwWTe1cQUVSc",
        "trusted": true
      },
      "outputs": [],
      "source": [
        "import matplotlib.pyplot as plt\n",
        "\n",
        "# Plot\n",
        "plt.figure(figsize=(10, 6))\n",
        "plt.barh(keyword_df['Treatment'], keyword_df['Mentions'], color='teal')\n",
        "plt.xlabel('Number of Mentions')\n",
        "plt.title('Mentions of Specific COVID-19 Treatments in Abstracts')\n",
        "plt.gca().invert_yaxis()  # Highest value on top\n",
        "plt.tight_layout()\n",
        "plt.show()\n"
      ]
    },
    {
      "cell_type": "code",
      "execution_count": null,
      "metadata": {
        "execution": {
          "iopub.execute_input": "2025-04-20T15:55:08.443955Z",
          "iopub.status.busy": "2025-04-20T15:55:08.443671Z",
          "iopub.status.idle": "2025-04-20T15:55:08.521709Z",
          "shell.execute_reply": "2025-04-20T15:55:08.520919Z",
          "shell.execute_reply.started": "2025-04-20T15:55:08.443934Z"
        },
        "id": "Fx3kDCGoUVSc",
        "trusted": true
      },
      "outputs": [],
      "source": [
        "df = pd.read_csv('/kaggle/input/CORD-19-research-challenge/metadata.csv', nrows=2000)\n"
      ]
    },
    {
      "cell_type": "code",
      "execution_count": null,
      "metadata": {
        "execution": {
          "iopub.execute_input": "2025-04-20T15:55:08.522888Z",
          "iopub.status.busy": "2025-04-20T15:55:08.522597Z",
          "iopub.status.idle": "2025-04-20T15:55:08.856946Z",
          "shell.execute_reply": "2025-04-20T15:55:08.85592Z",
          "shell.execute_reply.started": "2025-04-20T15:55:08.522863Z"
        },
        "id": "_MjUr8eKUVSc",
        "trusted": true
      },
      "outputs": [],
      "source": [
        "# Define treatment keywords we're searching for\n",
        "treatment_keywords = [\n",
        "    \"remdesivir\", \"paxlovid\", \"molnupiravir\", \"hydroxychloroquine\",\n",
        "    \"ivermectin\", \"monoclonal antibodies\", \"dexamethasone\", \"convalescent plasma\"\n",
        "]\n",
        "\n",
        "# Count mentions in the abstract column\n",
        "keyword_counts = {\n",
        "    term: df['abstract'].str.contains(term, case=False, na=False).sum()\n",
        "    for term in treatment_keywords\n",
        "}\n",
        "\n",
        "# Convert to DataFrame for visualization\n",
        "keyword_df = pd.DataFrame(list(keyword_counts.items()), columns=[\"Treatment\", \"Mentions\"])\n",
        "keyword_df.sort_values(by=\"Mentions\", ascending=False, inplace=True)\n",
        "keyword_df\n"
      ]
    },
    {
      "cell_type": "code",
      "execution_count": null,
      "metadata": {
        "execution": {
          "iopub.execute_input": "2025-04-20T15:55:08.859849Z",
          "iopub.status.busy": "2025-04-20T15:55:08.85957Z",
          "iopub.status.idle": "2025-04-20T15:55:09.091667Z",
          "shell.execute_reply": "2025-04-20T15:55:09.090615Z",
          "shell.execute_reply.started": "2025-04-20T15:55:08.859826Z"
        },
        "id": "be-WIZD-UVSd",
        "trusted": true
      },
      "outputs": [],
      "source": [
        "import matplotlib.pyplot as plt\n",
        "\n",
        "plt.figure(figsize=(10, 6))\n",
        "plt.bar(keyword_df['Treatment'], keyword_df['Mentions'], color='skyblue')\n",
        "plt.title(\"Mentions of COVID-19 Treatments in Abstracts\")\n",
        "plt.ylabel(\"Number of Mentions\")\n",
        "plt.xlabel(\"Treatment\")\n",
        "plt.xticks(rotation=45)\n",
        "plt.tight_layout()\n",
        "plt.show()\n"
      ]
    },
    {
      "cell_type": "markdown",
      "metadata": {
        "id": "owQtZ6nNUVSd"
      },
      "source": [
        "### Insights & Limitations from Treatment Term Analysis\n",
        "\n",
        "From the charts above, it's clear that:\n",
        "\n",
        "- **Monoclonal antibodies** dominate treatment-related mentions, significantly outpacing other interventions.\n",
        "- **Dexamethasone** and **convalescent plasma** were mentioned, though far less frequently.\n",
        "- Surprisingly, treatments like **remdesivir**, **paxlovid**, **hydroxychloroquine**, and **ivermectin** showed **zero or near-zero mentions**. This could be due to:\n",
        "  - Their emergence later in the pandemic (after the publish dates of our sampled abstracts).\n",
        "  - Terminology mismatches (e.g., alternate drug names or abbreviations not captured by our keyword list).\n",
        "  - Abstracts not including specific drug names even if the paper discusses them in full text.\n",
        "\n",
        "I avoided more advanced searches (e.g., across full-text JSON files) to preserve notebook performance. Future work could include querying full documents or applying NLP to improve detection of treatment mentions in context.\n"
      ]
    },
    {
      "cell_type": "code",
      "execution_count": null,
      "metadata": {
        "execution": {
          "iopub.execute_input": "2025-04-20T15:55:09.092931Z",
          "iopub.status.busy": "2025-04-20T15:55:09.092678Z",
          "iopub.status.idle": "2025-04-20T15:55:09.575425Z",
          "shell.execute_reply": "2025-04-20T15:55:09.574154Z",
          "shell.execute_reply.started": "2025-04-20T15:55:09.092904Z"
        },
        "id": "vSG8kDfdUVSd",
        "trusted": true
      },
      "outputs": [],
      "source": [
        "import pandas as pd\n",
        "import re\n",
        "\n",
        "# Load the first 5000 rows of the metadata (enough for insights, lightweight enough to run)\n",
        "df = pd.read_csv('/kaggle/input/CORD-19-research-challenge/metadata.csv', nrows=5000)\n",
        "\n",
        "# Define treatments we're interested in and keywords related to effectiveness\n",
        "selected_treatments = ['monoclonal antibodies', 'dexamethasone', 'convalescent plasma']\n",
        "effectiveness_keywords = ['effective', 'efficacy', 'ineffective', 'reduced', 'improved', 'treatment response']\n",
        "\n",
        "# Store all matching sentences from abstracts\n",
        "matching_sentences = []\n",
        "\n",
        "# Iterate through abstracts\n",
        "for abstract in df['abstract'].dropna():\n",
        "    # Break the abstract into sentences\n",
        "    sentences = re.split(r'(?<=[.!?])\\s+', abstract)\n",
        "    for sentence in sentences:\n",
        "        # If the sentence contains one of the treatments and one of the effectiveness terms\n",
        "        if any(treat in sentence.lower() for treat in selected_treatments) and \\\n",
        "           any(eff in sentence.lower() for eff in effectiveness_keywords):\n",
        "            matching_sentences.append(sentence.strip())\n",
        "\n",
        "# Preview first 10 matched sentences\n",
        "matching_sentences[:10]\n"
      ]
    },
    {
      "cell_type": "markdown",
      "metadata": {
        "id": "I8OlGX2eUVSd"
      },
      "source": [
        "### Treatment Effectiveness Mentions in Abstracts\n",
        "\n",
        "To explore **Question #4** — *What is known about the effectiveness of drugs and treatments?* — we conducted a lightweight scan of **5,000 abstracts** from the CORD-19 dataset. We filtered for sentences mentioning **monoclonal antibodies**, **dexamethasone**, or **convalescent plasma** alongside effectiveness-related terms such as *efficacy*, *improved*, or *reduced*.\n",
        "\n",
        "#### Sample Insights:\n",
        "- *\"School closures were effective in reducing pH1N1 transmission, oseltamivir was effective for treatment of severe cases while convalescent plasma therapy has the potential to mitigate future pandemics.\"*\n",
        "- *\"Monoclonal antibodies against GGT effectively inhibited GGT activity and successfully suppressed H.\"*\n",
        "- *\"Activity was reduced on exosomes isolated from dexamethasone-treated explants.\"*\n",
        "\n",
        "#### Observations:\n",
        "- **Monoclonal antibodies** are frequently discussed in contexts of broad antiviral activity or inhibition.\n",
        "- **Dexamethasone** appears in studies focused on molecular and cellular changes.\n",
        "- **Convalescent plasma** is referenced as a potential intervention in historical pandemic responses.\n"
      ]
    },
    {
      "cell_type": "markdown",
      "metadata": {
        "id": "7BmQ3daEUVSd"
      },
      "source": [
        "### Conclusion & Reflections\n",
        "\n",
        "This notebook explored over 5,000 scientific abstracts from the **CORD-19 Open Research Dataset** to investigate questions related to COVID-19 **treatments**, **vaccines**, and **medical response strategies**.\n",
        "\n",
        "Using keyword filtering, sentence extraction, and basic natural language processing:\n",
        "\n",
        "- Identified **64+ vaccine-related papers** and over **60 treatment-related studies**\n",
        "- Extracted real examples of language discussing the **effectiveness** of specific therapies (e.g., dexamethasone, monoclonal antibodies)\n",
        "- Created multiple **word clouds and frequency charts** to visualize common terminology and topic trends\n",
        "\n",
        "Due to frequent **kernel crashes** and **runtime constraints** on Kaggle, we chose to limit the complexity and size of our queries. Several visualizations were omitted to preserve stability.\n",
        "\n",
        "Nonetheless, this project demonstrates the potential for even lightweight NLP techniques to surface meaningful insights from a massive, unstructured dataset.\n",
        "\n",
        "> This notebook was created with the help of **ChatGPT** to assist with scripting, exploration strategy, and markdown drafting.\n"
      ]
    }
  ],
  "metadata": {
    "colab": {
      "name": "CORD-19-research-challenge",
      "provenance": []
    },
    "kaggle": {
      "accelerator": "none",
      "dataSources": [
        {
          "datasetId": 551982,
          "sourceId": 3756201,
          "sourceType": "datasetVersion"
        }
      ],
      "dockerImageVersionId": 31012,
      "isGpuEnabled": false,
      "isInternetEnabled": true,
      "language": "python",
      "sourceType": "notebook"
    },
    "kernelspec": {
      "display_name": "nlp",
      "language": "python",
      "name": "python3"
    },
    "language_info": {
      "codemirror_mode": {
        "name": "ipython",
        "version": 3
      },
      "file_extension": ".py",
      "mimetype": "text/x-python",
      "name": "python",
      "nbconvert_exporter": "python",
      "pygments_lexer": "ipython3",
      "version": "3.10.13"
    }
  },
  "nbformat": 4,
  "nbformat_minor": 0
}
